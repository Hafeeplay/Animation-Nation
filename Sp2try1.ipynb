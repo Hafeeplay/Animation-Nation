{
  "nbformat": 4,
  "nbformat_minor": 0,
  "metadata": {
    "colab": {
      "provenance": [],
      "mount_file_id": "1Ge5EqrLnuWHg8ADP57gpT0TBIxkBaEmn",
      "authorship_tag": "ABX9TyM/pIqPmJj/3KAghhkar62M",
      "include_colab_link": true
    },
    "kernelspec": {
      "name": "python3",
      "display_name": "Python 3"
    },
    "language_info": {
      "name": "python"
    }
  },
  "cells": [
    {
      "cell_type": "markdown",
      "metadata": {
        "id": "view-in-github",
        "colab_type": "text"
      },
      "source": [
        "<a href=\"https://colab.research.google.com/github/Hafeeplay/Animation-Nation/blob/master/Sp2try1.ipynb\" target=\"_parent\"><img src=\"https://colab.research.google.com/assets/colab-badge.svg\" alt=\"Open In Colab\"/></a>"
      ]
    },
    {
      "cell_type": "code",
      "source": [
        "! pip install tensorflow"
      ],
      "metadata": {
        "colab": {
          "base_uri": "https://localhost:8080/"
        },
        "id": "v9IXUmLZf5js",
        "outputId": "a3f821bd-ad95-429e-e0ce-21ca023bd914"
      },
      "execution_count": 146,
      "outputs": [
        {
          "output_type": "stream",
          "name": "stdout",
          "text": [
            "Looking in indexes: https://pypi.org/simple, https://us-python.pkg.dev/colab-wheels/public/simple/\n",
            "Requirement already satisfied: tensorflow in /usr/local/lib/python3.9/dist-packages (2.11.0)\n",
            "Requirement already satisfied: tensorflow-estimator<2.12,>=2.11.0 in /usr/local/lib/python3.9/dist-packages (from tensorflow) (2.11.0)\n",
            "Requirement already satisfied: flatbuffers>=2.0 in /usr/local/lib/python3.9/dist-packages (from tensorflow) (23.3.3)\n",
            "Requirement already satisfied: packaging in /usr/local/lib/python3.9/dist-packages (from tensorflow) (23.0)\n",
            "Requirement already satisfied: wrapt>=1.11.0 in /usr/local/lib/python3.9/dist-packages (from tensorflow) (1.15.0)\n",
            "Requirement already satisfied: gast<=0.4.0,>=0.2.1 in /usr/local/lib/python3.9/dist-packages (from tensorflow) (0.4.0)\n",
            "Requirement already satisfied: google-pasta>=0.1.1 in /usr/local/lib/python3.9/dist-packages (from tensorflow) (0.2.0)\n",
            "Requirement already satisfied: astunparse>=1.6.0 in /usr/local/lib/python3.9/dist-packages (from tensorflow) (1.6.3)\n",
            "Requirement already satisfied: setuptools in /usr/local/lib/python3.9/dist-packages (from tensorflow) (63.4.3)\n",
            "Requirement already satisfied: tensorflow-io-gcs-filesystem>=0.23.1 in /usr/local/lib/python3.9/dist-packages (from tensorflow) (0.31.0)\n",
            "Requirement already satisfied: protobuf<3.20,>=3.9.2 in /usr/local/lib/python3.9/dist-packages (from tensorflow) (3.19.6)\n",
            "Requirement already satisfied: grpcio<2.0,>=1.24.3 in /usr/local/lib/python3.9/dist-packages (from tensorflow) (1.51.3)\n",
            "Requirement already satisfied: typing-extensions>=3.6.6 in /usr/local/lib/python3.9/dist-packages (from tensorflow) (4.5.0)\n",
            "Requirement already satisfied: numpy>=1.20 in /usr/local/lib/python3.9/dist-packages (from tensorflow) (1.22.4)\n",
            "Requirement already satisfied: h5py>=2.9.0 in /usr/local/lib/python3.9/dist-packages (from tensorflow) (3.8.0)\n",
            "Requirement already satisfied: keras<2.12,>=2.11.0 in /usr/local/lib/python3.9/dist-packages (from tensorflow) (2.11.0)\n",
            "Requirement already satisfied: termcolor>=1.1.0 in /usr/local/lib/python3.9/dist-packages (from tensorflow) (2.2.0)\n",
            "Requirement already satisfied: six>=1.12.0 in /usr/local/lib/python3.9/dist-packages (from tensorflow) (1.15.0)\n",
            "Requirement already satisfied: opt-einsum>=2.3.2 in /usr/local/lib/python3.9/dist-packages (from tensorflow) (3.3.0)\n",
            "Requirement already satisfied: absl-py>=1.0.0 in /usr/local/lib/python3.9/dist-packages (from tensorflow) (1.4.0)\n",
            "Requirement already satisfied: tensorboard<2.12,>=2.11 in /usr/local/lib/python3.9/dist-packages (from tensorflow) (2.11.2)\n",
            "Requirement already satisfied: libclang>=13.0.0 in /usr/local/lib/python3.9/dist-packages (from tensorflow) (15.0.6.1)\n",
            "Requirement already satisfied: wheel<1.0,>=0.23.0 in /usr/local/lib/python3.9/dist-packages (from astunparse>=1.6.0->tensorflow) (0.40.0)\n",
            "Requirement already satisfied: tensorboard-plugin-wit>=1.6.0 in /usr/local/lib/python3.9/dist-packages (from tensorboard<2.12,>=2.11->tensorflow) (1.8.1)\n",
            "Requirement already satisfied: werkzeug>=1.0.1 in /usr/local/lib/python3.9/dist-packages (from tensorboard<2.12,>=2.11->tensorflow) (2.2.3)\n",
            "Requirement already satisfied: google-auth<3,>=1.6.3 in /usr/local/lib/python3.9/dist-packages (from tensorboard<2.12,>=2.11->tensorflow) (2.16.2)\n",
            "Requirement already satisfied: markdown>=2.6.8 in /usr/local/lib/python3.9/dist-packages (from tensorboard<2.12,>=2.11->tensorflow) (3.4.1)\n",
            "Requirement already satisfied: google-auth-oauthlib<0.5,>=0.4.1 in /usr/local/lib/python3.9/dist-packages (from tensorboard<2.12,>=2.11->tensorflow) (0.4.6)\n",
            "Requirement already satisfied: requests<3,>=2.21.0 in /usr/local/lib/python3.9/dist-packages (from tensorboard<2.12,>=2.11->tensorflow) (2.27.1)\n",
            "Requirement already satisfied: tensorboard-data-server<0.7.0,>=0.6.0 in /usr/local/lib/python3.9/dist-packages (from tensorboard<2.12,>=2.11->tensorflow) (0.6.1)\n",
            "Requirement already satisfied: pyasn1-modules>=0.2.1 in /usr/local/lib/python3.9/dist-packages (from google-auth<3,>=1.6.3->tensorboard<2.12,>=2.11->tensorflow) (0.2.8)\n",
            "Requirement already satisfied: rsa<5,>=3.1.4 in /usr/local/lib/python3.9/dist-packages (from google-auth<3,>=1.6.3->tensorboard<2.12,>=2.11->tensorflow) (4.9)\n",
            "Requirement already satisfied: cachetools<6.0,>=2.0.0 in /usr/local/lib/python3.9/dist-packages (from google-auth<3,>=1.6.3->tensorboard<2.12,>=2.11->tensorflow) (5.3.0)\n",
            "Requirement already satisfied: requests-oauthlib>=0.7.0 in /usr/local/lib/python3.9/dist-packages (from google-auth-oauthlib<0.5,>=0.4.1->tensorboard<2.12,>=2.11->tensorflow) (1.3.1)\n",
            "Requirement already satisfied: importlib-metadata>=4.4 in /usr/local/lib/python3.9/dist-packages (from markdown>=2.6.8->tensorboard<2.12,>=2.11->tensorflow) (6.0.0)\n",
            "Requirement already satisfied: certifi>=2017.4.17 in /usr/local/lib/python3.9/dist-packages (from requests<3,>=2.21.0->tensorboard<2.12,>=2.11->tensorflow) (2022.12.7)\n",
            "Requirement already satisfied: idna<4,>=2.5 in /usr/local/lib/python3.9/dist-packages (from requests<3,>=2.21.0->tensorboard<2.12,>=2.11->tensorflow) (3.4)\n",
            "Requirement already satisfied: charset-normalizer~=2.0.0 in /usr/local/lib/python3.9/dist-packages (from requests<3,>=2.21.0->tensorboard<2.12,>=2.11->tensorflow) (2.0.12)\n",
            "Requirement already satisfied: urllib3<1.27,>=1.21.1 in /usr/local/lib/python3.9/dist-packages (from requests<3,>=2.21.0->tensorboard<2.12,>=2.11->tensorflow) (1.26.15)\n",
            "Requirement already satisfied: MarkupSafe>=2.1.1 in /usr/local/lib/python3.9/dist-packages (from werkzeug>=1.0.1->tensorboard<2.12,>=2.11->tensorflow) (2.1.2)\n",
            "Requirement already satisfied: zipp>=0.5 in /usr/local/lib/python3.9/dist-packages (from importlib-metadata>=4.4->markdown>=2.6.8->tensorboard<2.12,>=2.11->tensorflow) (3.15.0)\n",
            "Requirement already satisfied: pyasn1<0.5.0,>=0.4.6 in /usr/local/lib/python3.9/dist-packages (from pyasn1-modules>=0.2.1->google-auth<3,>=1.6.3->tensorboard<2.12,>=2.11->tensorflow) (0.4.8)\n",
            "Requirement already satisfied: oauthlib>=3.0.0 in /usr/local/lib/python3.9/dist-packages (from requests-oauthlib>=0.7.0->google-auth-oauthlib<0.5,>=0.4.1->tensorboard<2.12,>=2.11->tensorflow) (3.2.2)\n"
          ]
        }
      ]
    },
    {
      "cell_type": "code",
      "source": [
        "# Import necessary libraries\n",
        "import pandas as pd\n",
        "import numpy as np\n",
        "import tensorflow as tf\n",
        "from tensorflow.keras.preprocessing.text import Tokenizer\n",
        "from tensorflow.keras.preprocessing.sequence import pad_sequences\n",
        "from keras.models import Sequential\n",
        "from keras.layers import Embedding, Conv1D, MaxPooling1D, Flatten, Dense, Dropout"
      ],
      "metadata": {
        "id": "O_wb9tpwfbqJ"
      },
      "execution_count": 147,
      "outputs": []
    },
    {
      "cell_type": "code",
      "source": [
        "# Load the dataset\n",
        "data = pd.read_csv('/content/drive/MyDrive/Specialproject2/depression_dataset_reddit_cleaned.csv')"
      ],
      "metadata": {
        "id": "7swuxXdDfbu-"
      },
      "execution_count": 148,
      "outputs": []
    },
    {
      "cell_type": "code",
      "source": [
        "\n",
        "# Split the data into training and testing sets\n",
        "train_data = data.sample(frac=0.8, random_state=42)\n",
        "test_data = data.drop(train_data.index)"
      ],
      "metadata": {
        "id": "LIVm0q7cfbx8"
      },
      "execution_count": 149,
      "outputs": []
    },
    {
      "cell_type": "code",
      "source": [
        "tokenizer = Tokenizer(num_words=15000, oov_token='<OOV>')\n",
        "tokenizer.fit_on_texts(train_data['clean_text'])"
      ],
      "metadata": {
        "id": "ONUDwMbTfb0b"
      },
      "execution_count": 128,
      "outputs": []
    },
    {
      "cell_type": "code",
      "source": [
        "# Convert the text data to sequences of integers\n",
        "train_sequences = tokenizer.texts_to_sequences(train_data['clean_text'])\n",
        "test_sequences = tokenizer.texts_to_sequences(test_data['clean_text'])"
      ],
      "metadata": {
        "id": "EZT0Fu5Rfb3a"
      },
      "execution_count": 129,
      "outputs": []
    },
    {
      "cell_type": "code",
      "source": [
        "# Pad the sequences to the same length\n",
        "max_length = 190\n",
        "train_padded = pad_sequences(train_sequences, maxlen=max_length, padding='post', truncating='post')\n",
        "test_padded = pad_sequences(test_sequences, maxlen=max_length, padding='post', truncating='post')"
      ],
      "metadata": {
        "id": "u386SP_ufb7D"
      },
      "execution_count": 150,
      "outputs": []
    },
    {
      "cell_type": "code",
      "source": [
        "# Create the neural network model\n",
        "model = tf.keras.Sequential([\n",
        "    tf.keras.layers.Embedding(input_dim=15000, output_dim=32, input_length=max_length),#changed input_dim from 10000 to 1000\n",
        "    tf.keras.layers.Conv1D(filters=64, kernel_size=5, activation='relu'),\n",
        "    tf.keras.layers.MaxPooling1D(pool_size=2)\n",
        "    tf.keras.layers.GlobalMaxPooling1D(),\n",
        "    tf.keras.layers.Dense(units=64, activation='relu'),\n",
        "    tf.keras.layers.Dense(units=1, activation='sigmoid')\n",
        "])\n"
      ],
      "metadata": {
        "colab": {
          "base_uri": "https://localhost:8080/",
          "height": 134
        },
        "id": "8QCUXfj8fb9t",
        "outputId": "f1031e54-66ff-4bbd-ac58-7734795581a6"
      },
      "execution_count": 155,
      "outputs": [
        {
          "output_type": "error",
          "ename": "SyntaxError",
          "evalue": "ignored",
          "traceback": [
            "\u001b[0;36m  File \u001b[0;32m\"<ipython-input-155-04d1a09b7c49>\"\u001b[0;36m, line \u001b[0;32m6\u001b[0m\n\u001b[0;31m    tf.keras.layers.GlobalMaxPooling1D(),\u001b[0m\n\u001b[0m    ^\u001b[0m\n\u001b[0;31mSyntaxError\u001b[0m\u001b[0;31m:\u001b[0m invalid syntax\n"
          ]
        }
      ]
    },
    {
      "cell_type": "code",
      "source": [
        "# Compile the model\n",
        "model.compile(optimizer='adam', loss='binary_crossentropy', metrics=['accuracy'])"
      ],
      "metadata": {
        "id": "L60aTfnjfcAq"
      },
      "execution_count": 153,
      "outputs": []
    },
    {
      "cell_type": "code",
      "source": [
        "# Train the model\n",
        "history = model.fit(train_padded, train_data['is_depression'], epochs=20, batch_size=16, validation_data=(test_padded, test_data['is_depression']))"
      ],
      "metadata": {
        "colab": {
          "base_uri": "https://localhost:8080/"
        },
        "id": "LxRUYgx4fcDS",
        "outputId": "e336c6b3-f000-44fb-edf6-1d5ac34d79fd"
      },
      "execution_count": 154,
      "outputs": [
        {
          "output_type": "stream",
          "name": "stdout",
          "text": [
            "Epoch 1/20\n",
            "387/387 [==============================] - 10s 21ms/step - loss: 0.2399 - accuracy: 0.9001 - val_loss: 0.1204 - val_accuracy: 0.9586\n",
            "Epoch 2/20\n",
            "387/387 [==============================] - 6s 17ms/step - loss: 0.0697 - accuracy: 0.9782 - val_loss: 0.1301 - val_accuracy: 0.9567\n",
            "Epoch 3/20\n",
            "387/387 [==============================] - 8s 21ms/step - loss: 0.0298 - accuracy: 0.9930 - val_loss: 0.1504 - val_accuracy: 0.9554\n",
            "Epoch 4/20\n",
            "387/387 [==============================] - 6s 16ms/step - loss: 0.0147 - accuracy: 0.9968 - val_loss: 0.1573 - val_accuracy: 0.9541\n",
            "Epoch 5/20\n",
            "387/387 [==============================] - 8s 22ms/step - loss: 0.0073 - accuracy: 0.9984 - val_loss: 0.1723 - val_accuracy: 0.9547\n",
            "Epoch 6/20\n",
            "387/387 [==============================] - 6s 16ms/step - loss: 0.0031 - accuracy: 0.9994 - val_loss: 0.1864 - val_accuracy: 0.9515\n",
            "Epoch 7/20\n",
            "387/387 [==============================] - 8s 21ms/step - loss: 0.0017 - accuracy: 0.9997 - val_loss: 0.2053 - val_accuracy: 0.9534\n",
            "Epoch 8/20\n",
            "387/387 [==============================] - 6s 16ms/step - loss: 2.5168e-04 - accuracy: 1.0000 - val_loss: 0.2173 - val_accuracy: 0.9534\n",
            "Epoch 9/20\n",
            "387/387 [==============================] - 9s 24ms/step - loss: 1.1095e-04 - accuracy: 1.0000 - val_loss: 0.2376 - val_accuracy: 0.9521\n",
            "Epoch 10/20\n",
            "387/387 [==============================] - 7s 17ms/step - loss: 6.1951e-05 - accuracy: 1.0000 - val_loss: 0.2478 - val_accuracy: 0.9515\n",
            "Epoch 11/20\n",
            "387/387 [==============================] - 9s 24ms/step - loss: 3.8423e-05 - accuracy: 1.0000 - val_loss: 0.2632 - val_accuracy: 0.9521\n",
            "Epoch 12/20\n",
            "387/387 [==============================] - 7s 18ms/step - loss: 2.5941e-05 - accuracy: 1.0000 - val_loss: 0.2711 - val_accuracy: 0.9521\n",
            "Epoch 13/20\n",
            "387/387 [==============================] - 7s 19ms/step - loss: 1.7847e-05 - accuracy: 1.0000 - val_loss: 0.2838 - val_accuracy: 0.9521\n",
            "Epoch 14/20\n",
            "387/387 [==============================] - 7s 18ms/step - loss: 1.2744e-05 - accuracy: 1.0000 - val_loss: 0.2939 - val_accuracy: 0.9521\n",
            "Epoch 15/20\n",
            "387/387 [==============================] - 7s 19ms/step - loss: 9.3661e-06 - accuracy: 1.0000 - val_loss: 0.3026 - val_accuracy: 0.9521\n",
            "Epoch 16/20\n",
            "387/387 [==============================] - 7s 18ms/step - loss: 7.0386e-06 - accuracy: 1.0000 - val_loss: 0.3085 - val_accuracy: 0.9515\n",
            "Epoch 17/20\n",
            "387/387 [==============================] - 7s 19ms/step - loss: 5.3080e-06 - accuracy: 1.0000 - val_loss: 0.3196 - val_accuracy: 0.9521\n",
            "Epoch 18/20\n",
            "387/387 [==============================] - 7s 17ms/step - loss: 4.0424e-06 - accuracy: 1.0000 - val_loss: 0.3265 - val_accuracy: 0.9521\n",
            "Epoch 19/20\n",
            "387/387 [==============================] - 8s 20ms/step - loss: 3.1321e-06 - accuracy: 1.0000 - val_loss: 0.3341 - val_accuracy: 0.9515\n",
            "Epoch 20/20\n",
            "387/387 [==============================] - 7s 17ms/step - loss: 2.4130e-06 - accuracy: 1.0000 - val_loss: 0.3435 - val_accuracy: 0.9528\n"
          ]
        }
      ]
    },
    {
      "cell_type": "code",
      "source": [
        "# Make predictions on new data\n",
        "new_data = np.array(['I dont love this life i hate my life', 'I will kill you all in love with you'])\n",
        "new_sequences = tokenizer.texts_to_sequences(new_data)\n",
        "new_padded = pad_sequences(new_sequences, maxlen=max_length, padding='post', truncating='post')\n",
        "predictions = model.predict(new_padded)"
      ],
      "metadata": {
        "colab": {
          "base_uri": "https://localhost:8080/"
        },
        "id": "YHycP_t_fxf8",
        "outputId": "ea6940c6-c4ac-4db9-f426-95d6846cb0f4"
      },
      "execution_count": 99,
      "outputs": [
        {
          "output_type": "stream",
          "name": "stdout",
          "text": [
            "1/1 [==============================] - 0s 84ms/step\n"
          ]
        }
      ]
    },
    {
      "cell_type": "code",
      "source": [
        "# Print the predictions\n",
        "for i, prediction in enumerate(predictions):\n",
        "    print(f\"New text {i+1} - Depression probability: {prediction[0]:.4f}\")\n"
      ],
      "metadata": {
        "colab": {
          "base_uri": "https://localhost:8080/"
        },
        "id": "eTm5bDK0fxd2",
        "outputId": "539bdb1e-f69e-467a-fad0-396faed40bf7"
      },
      "execution_count": 100,
      "outputs": [
        {
          "output_type": "stream",
          "name": "stdout",
          "text": [
            "New text 1 - Depression probability: 0.9989\n",
            "New text 2 - Depression probability: 0.0000\n"
          ]
        }
      ]
    },
    {
      "cell_type": "code",
      "source": [
        "# Print the accuracy\n",
        "test_loss, test_accuracy = model.evaluate(test_padded, test_data['is_depression'])\n",
        "print(f\"Test accuracy: {test_accuracy:.4f}\")"
      ],
      "metadata": {
        "colab": {
          "base_uri": "https://localhost:8080/"
        },
        "id": "cScRzhkjfxbq",
        "outputId": "d12b81fe-cb0f-4724-8592-53f5ff2377af"
      },
      "execution_count": 101,
      "outputs": [
        {
          "output_type": "stream",
          "name": "stdout",
          "text": [
            "49/49 [==============================] - 0s 5ms/step - loss: 0.2691 - accuracy: 0.9528\n",
            "Test accuracy: 0.9528\n"
          ]
        }
      ]
    },
    {
      "cell_type": "code",
      "source": [],
      "metadata": {
        "id": "jLeweSkefxYu"
      },
      "execution_count": null,
      "outputs": []
    },
    {
      "cell_type": "code",
      "source": [],
      "metadata": {
        "id": "pLZlr5tlfxV4"
      },
      "execution_count": null,
      "outputs": []
    },
    {
      "cell_type": "code",
      "source": [],
      "metadata": {
        "id": "eoq_1m4SfxSc"
      },
      "execution_count": null,
      "outputs": []
    }
  ]
}